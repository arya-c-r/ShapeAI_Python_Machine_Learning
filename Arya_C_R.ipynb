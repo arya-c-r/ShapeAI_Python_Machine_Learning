{
  "nbformat": 4,
  "nbformat_minor": 0,
  "metadata": {
    "colab": {
      "name": "Arya_C_R.ipynb",
      "provenance": []
    },
    "kernelspec": {
      "name": "python3",
      "display_name": "Python 3"
    },
    "language_info": {
      "name": "python"
    }
  },
  "cells": [
    {
      "cell_type": "code",
      "metadata": {
        "id": "HHssG5YaOslm",
        "colab": {
          "base_uri": "https://localhost:8080/"
        },
        "outputId": "f2b48888-ec0c-4991-d56e-c6445fc4409a"
      },
      "source": [
        " \n",
        "import numpy as np\n",
        " \n",
        "import pandas as pd\n",
        " \n",
        "import sklearn\n",
        " \n",
        "from sklearn.datasets import load_boston\n",
        " \n",
        "df = load_boston()\n",
        " \n",
        "df.keys()\n",
        " \n",
        "boston = pd.DataFrame(df.data, columns=df.feature_names)\n",
        " \n",
        "boston.head()\n",
        " \n",
        "boston['HOME'] = df.target\n",
        " \n",
        "boston.head()\n",
        " \n",
        "boston.isnull().sum()\n",
        " \n",
        "from sklearn.model_selection import train_test_split\n",
        " \n",
        "X = boston.drop('HOME',axis=1)\n",
        " \n",
        "Y = boston['HOME']\n",
        " \n",
        "X_train,X_test,Y_train,Y_test = train_test_split(X,Y,test_size=0.15,random_state=1)\n",
        " \n",
        "#print(X_train.shape)\n",
        " \n",
        "#print(X_test.shape)\n",
        " \n",
        "#print(Y_train.shape)\n",
        " \n",
        "#print(Y_test.shape)\n",
        " \n",
        "from sklearn.linear_model import LinearRegression\n",
        " \n",
        "from sklearn.metrics import mean_squared_error\n",
        " \n",
        "lin_model = LinearRegression()\n",
        " \n",
        "lin_model.fit(X_train,Y_train)\n",
        " \n",
        "y_train_predict = lin_model.predict(X_train)\n",
        " \n",
        "rmse = (np.sqrt(mean_squared_error(Y_train,y_train_predict)))\n",
        " \n",
        "print(\"The model performance for training set\")\n",
        " \n",
        "print('RMSE is {}'.format(rmse))\n",
        " \n",
        "print(\"\\n\")\n",
        " \n",
        "y_test_predict = lin_model.predict(X_test)\n",
        " \n",
        "rmse = (np.sqrt(mean_squared_error(Y_test,y_test_predict)))\n",
        " \n",
        "print(\"The model performance for testing set\")\n",
        " \n",
        "print('RMSE is {}'.format(rmse))\n",
        " \n",
        "print(\"\\n\")"
      ],
      "execution_count": 3,
      "outputs": [
        {
          "output_type": "stream",
          "text": [
            "The model performance for training set\n",
            "RMSE is 4.691577015539126\n",
            "\n",
            "\n",
            "The model performance for testing set\n",
            "RMSE is 4.685497050472062\n",
            "\n",
            "\n"
          ],
          "name": "stdout"
        }
      ]
    }
  ]
}